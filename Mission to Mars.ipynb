{
 "cells": [
  {
   "cell_type": "markdown",
   "id": "2f0af510-ebbd-4739-a49a-8311954dfb78",
   "metadata": {},
   "source": [
    "# Mission to Mars    "
   ]
  },
  {
   "cell_type": "markdown",
   "id": "7df5e15e-96dd-46f8-8fdc-7a50021efb92",
   "metadata": {
    "tags": []
   },
   "source": [
    "#### Imports"
   ]
  },
  {
   "cell_type": "code",
   "execution_count": 2,
   "id": "7a6667b3",
   "metadata": {},
   "outputs": [],
   "source": [
    "# importing all required libraries\n",
    "from splinter import Browser\n",
    "from bs4 import BeautifulSoup\n",
    "from webdriver_manager.chrome import ChromeDriverManager\n",
    "import pandas as pd\n",
    "from flask import Flask, render_template, redirect\n",
    "from flask_pymongo import PyMongo"
   ]
  },
  {
   "cell_type": "code",
   "execution_count": 3,
   "id": "155ddf48",
   "metadata": {},
   "outputs": [
    {
     "name": "stderr",
     "output_type": "stream",
     "text": [
      "\n",
      "\n",
      "====== WebDriver manager ======\n",
      "Could not get version for google-chrome with the command:  powershell \"$ErrorActionPreference='silentlycontinue' ; (Get-Item -Path \"$env:PROGRAMFILES\\Google\\Chrome\\Application\\chrome.exe\").VersionInfo.FileVersion ; if (-not $? -or $? -match $error) { (Get-Item -Path \"$env:PROGRAMFILES(x86)\\Google\\Chrome\\Application\\chrome.exe\").VersionInfo.FileVersion } if (-not $? -or $? -match $error) { (Get-Item -Path \"$env:LOCALAPPDATA\\Google\\Chrome\\Application\\chrome.exe\").VersionInfo.FileVersion } if (-not $? -or $? -match $error) { reg query \"HKCU\\SOFTWARE\\Google\\Chrome\\BLBeacon\" /v version } if (-not $? -or $? -match $error) { reg query \"HKLM\\SOFTWARE\\Wow6432Node\\Microsoft\\Windows\\CurrentVersion\\Uninstall\\Google Chrome\" /v version }\"\n",
      "Current google-chrome version is UNKNOWN\n",
      "Get LATEST chromedriver version for UNKNOWN google-chrome\n",
      "Trying to download new driver from https://chromedriver.storage.googleapis.com/99.0.4844.51/chromedriver_win32.zip\n",
      "Driver has been saved in cache [C:\\Users\\sarma\\.wdm\\drivers\\chromedriver\\win32\\99.0.4844.51]\n"
     ]
    }
   ],
   "source": [
    "executable_path = {'executable_path': ChromeDriverManager().install()}\n",
    "browser = Browser('chrome''', **executable_path, headless=False)"
   ]
  },
  {
   "cell_type": "code",
   "execution_count": 4,
   "id": "8bb6a80d",
   "metadata": {},
   "outputs": [],
   "source": [
    "#Visit the mars nasa news site\n",
    "url = 'https://redplanetscience.com/'\n",
    "browser.visit(url)\n",
    "#optional delay for loading the page\n",
    "#browser.is_element_present_by_css('div.list_text', wait_time=1)\n"
   ]
  },
  {
   "cell_type": "code",
   "execution_count": 5,
   "id": "b6a26bc1",
   "metadata": {},
   "outputs": [
    {
     "data": {
      "text/plain": [
       "'An electronics issue is suspected to be preventing the sensors from sharing their data about Mars weather with the spacecraft.'"
      ]
     },
     "execution_count": 5,
     "metadata": {},
     "output_type": "execute_result"
    }
   ],
   "source": [
    "#NASA Mars News\n",
    "html = browser.html\n",
    "soup = BeautifulSoup(html, 'html.parser')\n",
    "\n",
    "news_title = soup.find_all('div', class_='content_title')[0].text\n",
    "news_p = soup.find_all ('div', class_= 'article_teaser_body')[0].text\n",
    "news_title\n",
    "news_p\n"
   ]
  },
  {
   "cell_type": "code",
   "execution_count": 18,
   "id": "d2878fb8",
   "metadata": {},
   "outputs": [
    {
     "name": "stdout",
     "output_type": "stream",
     "text": [
      "Featured_image_url = https://spaceimages-mars.com/image/featured/mars3.jpg\n"
     ]
    }
   ],
   "source": [
    "#JPL Mars Space Images\n",
    "#featured_image_url = 'https://spaceimages-mars.com/image/featured/mars2.jpg'\n",
    "url =\"https://spaceimages-mars.com/image/featured/mars3.jpg\"\n",
    "browser.visit(url)\n",
    "html = browser.html\n",
    "soup = BeautifulSoup(html, 'html.parser')\n",
    "for div in soup.find_all('div', class_='floating_text_area'):\n",
    "    a = div.find('a')\n",
    "    image = a['href']\n",
    "    print(image)\n",
    "Featured_image_url = 'https://spaceimages-mars.com/image/featured/mars3.jpg'\n",
    "\n",
    "print(f\"Featured_image_url = {Featured_image_url}\")"
   ]
  },
  {
   "cell_type": "code",
   "execution_count": 23,
   "id": "77bd6f20",
   "metadata": {},
   "outputs": [
    {
     "name": "stdout",
     "output_type": "stream",
     "text": [
      "Cerberus Hemisphere Enhanced\n",
      "https://marshemispheres.com/images/f5e372a36edfa389625da6d0cc25d905_cerberus_enhanced.tif_full.jpg\n",
      "-----------------------------------------------------------------------------------------------------------\n",
      "Schiaparelli Hemisphere Enhanced\n",
      "https://marshemispheres.com/images/3778f7b43bbbc89d6e3cfabb3613ba93_schiaparelli_enhanced.tif_full.jpg\n",
      "-----------------------------------------------------------------------------------------------------------\n",
      "Syrtis Major Hemisphere Enhanced\n",
      "https://marshemispheres.com/images/555e6403a6ddd7ba16ddb0e471cadcf7_syrtis_major_enhanced.tif_full.jpg\n",
      "-----------------------------------------------------------------------------------------------------------\n",
      "Valles Marineris Hemisphere Enhanced\n",
      "https://marshemispheres.com/images/b3c7c6c9138f57b4756be9b9c43e3a48_valles_marineris_enhanced.tif_full.jpg\n",
      "-----------------------------------------------------------------------------------------------------------\n"
     ]
    }
   ],
   "source": [
    "url = 'https://marshemispheres.com/'\n",
    "browser.visit(url)\n",
    "html = browser.html\n",
    "soup = BeautifulSoup(html, 'html.parser')\n",
    "\n",
    "results = soup.find_all('div', class_='description')\n",
    "Hemisphere_img_urls = []\n",
    "# Loop through returned results\n",
    "for result in results:\n",
    "    # Error handling\n",
    "    try:\n",
    "        # Identify and return title of listing\n",
    "        title = result.find('h3').text\n",
    "        # get the image link\n",
    "        img_link = result.a['href']\n",
    "        url = f\"https://marshemispheres.com/\" + img_link\n",
    "        browser.visit(url)\n",
    "        html = browser.html\n",
    "        soup = BeautifulSoup(html, 'html.parser')\n",
    "        output = soup.find('img', class_= \"wide-image\")\n",
    "        download_link = output['src']\n",
    "        img_url = f\"https://marshemispheres.com/\" + download_link\n",
    "            # Print results only if title, price, and link are available\n",
    "        if (title and download_link):\n",
    "            print(title)\n",
    "            print(f\"https://marshemispheres.com/\" + download_link)\n",
    "            print('-'*107)\n",
    "            \n",
    "            hemis_dictionary = { \n",
    "                'Title' :title, \n",
    "                'img_url': img_url}\n",
    "            \n",
    "            Hemisphere_img_urls.append(hemis_dictionary)\n",
    "            \n",
    "    except Exception as e:\n",
    "        print(e)"
   ]
  },
  {
   "cell_type": "code",
   "execution_count": null,
   "id": "2bbaab5f",
   "metadata": {},
   "outputs": [],
   "source": [
    "#Step 2 - MongoDB and Flask Application\n"
   ]
  },
  {
   "cell_type": "code",
   "execution_count": null,
   "id": "b9c71c69",
   "metadata": {},
   "outputs": [],
   "source": []
  }
 ],
 "metadata": {
  "kernelspec": {
   "display_name": "Python 3 (ipykernel)",
   "language": "python",
   "name": "python3"
  },
  "language_info": {
   "codemirror_mode": {
    "name": "ipython",
    "version": 3
   },
   "file_extension": ".py",
   "mimetype": "text/x-python",
   "name": "python",
   "nbconvert_exporter": "python",
   "pygments_lexer": "ipython3",
   "version": "3.9.7"
  }
 },
 "nbformat": 4,
 "nbformat_minor": 5
}
